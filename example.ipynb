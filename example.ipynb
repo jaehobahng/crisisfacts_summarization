{
 "cells": [
  {
   "cell_type": "code",
   "execution_count": 1,
   "metadata": {},
   "outputs": [
    {
     "name": "stderr",
     "output_type": "stream",
     "text": [
      "c:\\Users\\JaeHoBahng\\anaconda3\\envs\\dsan5800\\Lib\\site-packages\\tqdm\\auto.py:21: TqdmWarning: IProgress not found. Please update jupyter and ipywidgets. See https://ipywidgets.readthedocs.io/en/stable/user_install.html\n",
      "  from .autonotebook import tqdm as notebook_tqdm\n"
     ]
    }
   ],
   "source": [
    "from crisis_summary.summary import crisis\n",
    "from crisis_summary.utils.util import get_eventsMeta"
   ]
  },
  {
   "cell_type": "code",
   "execution_count": 2,
   "metadata": {},
   "outputs": [],
   "source": [
    "from dotenv import load_dotenv\n",
    "import os"
   ]
  },
  {
   "cell_type": "code",
   "execution_count": 3,
   "metadata": {},
   "outputs": [],
   "source": [
    "# !mkdir auth"
   ]
  },
  {
   "cell_type": "code",
   "execution_count": 4,
   "metadata": {},
   "outputs": [],
   "source": [
    "# credentials = {\n",
    "#     \"institution\": \"Georgetown University\", # University, Company or Public Agency Name\n",
    "#     \"contactname\": \"JaeHo Bahng\", # Your Name\n",
    "#     \"email\": \"jaheo127@gmail.com\", # A contact email address\n",
    "#     \"institutiontype\": \"Academic\" # Either 'Research', 'Industry', or 'Public Sector'\n",
    "# }\n",
    "\n",
    "# # Write this to a file so it can be read when needed\n",
    "# import json\n",
    "# import os\n",
    "\n",
    "# with open('./auth/crisisfacts.json', 'w') as f:\n",
    "#     json.dump(credentials, f)"
   ]
  },
  {
   "cell_type": "markdown",
   "metadata": {},
   "source": [
    "# Environment Variables\n",
    "- the .env file contains openai api keys.\n",
    "- set the IR_DATASETS_HOME variable to wherever the crisisfacts folder is in relative to the current working directory"
   ]
  },
  {
   "cell_type": "code",
   "execution_count": 5,
   "metadata": {},
   "outputs": [],
   "source": [
    "# Load variables from the .env file\n",
    "load_dotenv('.env')\n",
    "api = os.getenv(\"OPENAI_API_KEY\")\n",
    "os.environ['IR_DATASETS_HOME'] = './'"
   ]
  },
  {
   "cell_type": "markdown",
   "metadata": {},
   "source": [
    "# Get Metadata"
   ]
  },
  {
   "cell_type": "markdown",
   "metadata": {},
   "source": [
    "- For multiple events must input like '001,002,003'\n",
    "- If you want all days and not just the first few delete days parameter"
   ]
  },
  {
   "cell_type": "code",
   "execution_count": 6,
   "metadata": {},
   "outputs": [],
   "source": [
    "eventsMeta = get_eventsMeta(eventNoList='001', days=1)"
   ]
  },
  {
   "cell_type": "markdown",
   "metadata": {},
   "source": [
    "# Rerank with Colbert"
   ]
  },
  {
   "cell_type": "code",
   "execution_count": 7,
   "metadata": {},
   "outputs": [
    {
     "name": "stdout",
     "output_type": "stream",
     "text": [
      "Loading ColBERTRanker model answerdotai/answerai-colbert-small-v1 (this message can be suppressed by setting verbose=0)\n",
      "No device set\n",
      "Using device cuda\n",
      "No dtype set\n",
      "Using dtype torch.float32\n",
      "Loading model answerdotai/answerai-colbert-small-v1, this might take a while...\n",
      "Linear Dim set to: 96 for downcasting\n",
      "crisisfacts/001/2017-12-07  processing\n",
      "There are multiple query fields available: ('text', 'indicative_terms', 'trecis_category_mapping', 'event_id', 'event_title', 'event_dataset', 'event_description', 'event_trecis_id', 'event_type', 'event_url'). To use with pyterrier, provide variant or modify dataframe to add query column.\n"
     ]
    },
    {
     "name": "stderr",
     "output_type": "stream",
     "text": [
      "crisisfacts/001/2017-12-07 documents: 7288it [00:00, 13300.41it/s]\n",
      "Java started (triggered by TerrierIndexer.__init__) and loaded: pyterrier.java, pyterrier.terrier.java [version=5.10 (build: craigm 2024-08-22 17:33), helper_version=0.0.8]\n",
      "crisisfacts/001/2017-12-07 documents: 7288it [00:02, 2723.28it/s]\n"
     ]
    }
   ],
   "source": [
    "mine = crisis(events = eventsMeta)\n",
    "\n",
    "final_df, time_taken, memory_used = mine.rank_rerank_colbert(model = 'BM25')\n",
    "result_df = mine.group_doc(final_df)\n",
    "a, b, c = mine.gpt_summary(result_df, api)"
   ]
  },
  {
   "cell_type": "markdown",
   "metadata": {},
   "source": [
    "# Rerank with MonoT5"
   ]
  },
  {
   "cell_type": "code",
   "execution_count": 8,
   "metadata": {},
   "outputs": [
    {
     "name": "stdout",
     "output_type": "stream",
     "text": [
      "crisisfacts/001/2017-12-07  processing\n",
      "There are multiple query fields available: ('text', 'indicative_terms', 'trecis_category_mapping', 'event_id', 'event_title', 'event_dataset', 'event_description', 'event_trecis_id', 'event_type', 'event_url'). To use with pyterrier, provide variant or modify dataframe to add query column.\n"
     ]
    },
    {
     "name": "stderr",
     "output_type": "stream",
     "text": [
      "crisisfacts/001/2017-12-07 documents: 7288it [00:00, 15605.59it/s]\n",
      "crisisfacts/001/2017-12-07 documents: 7288it [00:01, 3995.04it/s]\n",
      "You are using the default legacy behaviour of the <class 'transformers.models.t5.tokenization_t5.T5Tokenizer'>. This is expected, and simply means that the `legacy` (previous) behavior will be used so nothing changes for you. If you want to use the new behaviour, set `legacy=False`. This should only be set if you understand what it means, and thoroughly read the reason why this was added as explained in https://github.com/huggingface/transformers/pull/24565\n"
     ]
    },
    {
     "name": "stdout",
     "output_type": "stream",
     "text": [
      "08:47:26.771 [main] WARN org.terrier.querying.ApplyTermPipeline -- The index has no termpipelines configuration, and no control configuration is found. Defaulting to global termpipelines configuration of 'Stopwords,PorterStemmer'. Set a termpipelines control to remove this warning.\n"
     ]
    }
   ],
   "source": [
    "mine = crisis(events = eventsMeta)\n",
    "\n",
    "final_df, time_taken, memory_used = mine.rank_rerank_T5(model = 'BM25')\n",
    "result_df = mine.group_doc(final_df)\n",
    "a, b, c = mine.gpt_summary(result_df, api)"
   ]
  },
  {
   "cell_type": "code",
   "execution_count": null,
   "metadata": {},
   "outputs": [],
   "source": []
  }
 ],
 "metadata": {
  "kernelspec": {
   "display_name": "dsan5800",
   "language": "python",
   "name": "python3"
  },
  "language_info": {
   "codemirror_mode": {
    "name": "ipython",
    "version": 3
   },
   "file_extension": ".py",
   "mimetype": "text/x-python",
   "name": "python",
   "nbconvert_exporter": "python",
   "pygments_lexer": "ipython3",
   "version": "3.11.10"
  }
 },
 "nbformat": 4,
 "nbformat_minor": 2
}
